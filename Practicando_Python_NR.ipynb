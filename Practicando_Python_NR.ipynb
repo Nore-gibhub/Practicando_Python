{
  "nbformat": 4,
  "nbformat_minor": 0,
  "metadata": {
    "colab": {
      "provenance": [],
      "authorship_tag": "ABX9TyOY7+P/CoZQtaZdnj9sPXr3",
      "include_colab_link": true
    },
    "kernelspec": {
      "name": "python3",
      "display_name": "Python 3"
    },
    "language_info": {
      "name": "python"
    }
  },
  "cells": [
    {
      "cell_type": "markdown",
      "metadata": {
        "id": "view-in-github",
        "colab_type": "text"
      },
      "source": [
        "<a href=\"https://colab.research.google.com/github/Nore-gibhub/Practicando_Python/blob/main/Practicando_Python_NR.ipynb\" target=\"_parent\"><img src=\"https://colab.research.google.com/assets/colab-badge.svg\" alt=\"Open In Colab\"/></a>"
      ]
    },
    {
      "cell_type": "code",
      "execution_count": null,
      "metadata": {
        "colab": {
          "base_uri": "https://localhost:8080/"
        },
        "id": "0gIoK3VUcbWK",
        "outputId": "3d1d2c00-30a8-4e21-d2f8-9268ff333f30"
      },
      "outputs": [
        {
          "output_type": "stream",
          "name": "stdout",
          "text": [
            "Digite la cantidad de manzanas:4\n",
            "Digite la cantidad de platanos:9\n",
            "Los plátanos tuvieron más ventas.\n"
          ]
        }
      ],
      "source": [
        "Cant_de_manzanas = int(input (\"Digite la cantidad de manzanas:\"))\n",
        "Cant_de_platanos = int(input (\"Digite la cantidad de platanos:\"))\n",
        "if Cant_de_platanos > Cant_de_manzanas:\n",
        "  print (\"Los plátanos tuvieron más ventas.\")\n",
        "elif Cant_de_platanos < Cant_de_manzanas:\n",
        "  print (\"Las manzanas tuvieron mas ventas.\")\n",
        "else:\n",
        "  Print (\"Las ventas fueron iguales\")"
      ]
    },
    {
      "cell_type": "code",
      "source": [
        "Temperatura = int(input(\"Digite la temperatura actual:\"))\n",
        "if Temperatura <= 25:\n",
        "  print (\"Temperatura dentro del limite permitido.\")\n",
        "else:\n",
        "  print (\"¡Alerta! Temperatura por encima del límite permitido.\")"
      ],
      "metadata": {
        "colab": {
          "base_uri": "https://localhost:8080/"
        },
        "id": "x38VZBs2hoaG",
        "outputId": "0d792669-5444-451d-bd2f-a949293295f4"
      },
      "execution_count": null,
      "outputs": [
        {
          "output_type": "stream",
          "name": "stdout",
          "text": [
            "Digite la temperatura actual:30\n",
            "¡Alerta! Temperatura por encima del límite permitido.\n"
          ]
        }
      ]
    },
    {
      "cell_type": "code",
      "source": [
        "Actividad_A = int(input(\"Escriba el número de días que tomó realizar la actividad A: \"))\n",
        "Actividad_B = int(input(\"Escriba el número de días que tomó realizar la actividad B: \"))\n",
        "Actividad_C = int(input(\"Escriba el número de días que tomó realizar la actividad C: \"))\n",
        "\n",
        "if Actividad_A < 0 or Actividad_B < 0 or Actividad_C < 0:\n",
        "  print (\"Los días no pueden ser negativos\")\n",
        "else:\n",
        "  Tiempo_total = Actividad_A + Actividad_B + Actividad_C\n",
        "  print (f\"Tiempo total para concluir todas las activiades {Tiempo_total} días\")"
      ],
      "metadata": {
        "colab": {
          "base_uri": "https://localhost:8080/"
        },
        "id": "bTB45KCCn3et",
        "outputId": "d1d55c48-c850-4f6f-e13e-c7fb8864c4e7"
      },
      "execution_count": null,
      "outputs": [
        {
          "output_type": "stream",
          "name": "stdout",
          "text": [
            "Escriba el número de días que tomó realizar la actividad A: 5\n",
            "Escriba el número de días que tomó realizar la actividad B: 5\n",
            "Escriba el número de días que tomó realizar la actividad C: 5\n",
            "Tiempo total para concluir todas las activiades 15 días\n"
          ]
        }
      ]
    },
    {
      "cell_type": "code",
      "source": [
        "Peso = float (input(\"Indique su peso en kg: \"))\n",
        "Altura = float (input(\"Indique su altura en metros: \"))\n",
        "IMC = Peso / (Altura * Altura)\n",
        "print (f\"su IMC es: {IMC:.2f}\")\n",
        "\n",
        "if IMC < 18.5:\n",
        "  print (\"Bajo peso\")\n",
        "elif IMC >= 18.5 and IMC < 25:\n",
        "  print (\"Peso normal\")\n",
        "elif IMC >= 25:\n",
        "  print (\"Sobre peso\")\n"
      ],
      "metadata": {
        "colab": {
          "base_uri": "https://localhost:8080/"
        },
        "id": "r-diRPdzuhp7",
        "outputId": "e6c9994f-853d-477e-e15f-fa97a77d0ec4"
      },
      "execution_count": null,
      "outputs": [
        {
          "output_type": "stream",
          "name": "stdout",
          "text": [
            "Indique su peso en kg: 60\n",
            "Indique su altura en metros: 1.60\n",
            "su IMC es: 23.44\n",
            "Peso normal\n"
          ]
        }
      ]
    },
    {
      "cell_type": "code",
      "source": [
        "Ingreso = float (input(\"Indique su ingreso mensual: \"))\n",
        "Hijos = float (input(\"Indique numero de hijos\"))\n",
        "\n",
        "if Ingreso <= 2000 and Hijos >= 1:\n",
        "  print (\"Puede recibir el beneficio\")\n",
        "else:\n",
        "  print (\"No cumple los requisitos para recibir el beneficio\")"
      ],
      "metadata": {
        "id": "tQBEV8rFz6-d",
        "colab": {
          "base_uri": "https://localhost:8080/"
        },
        "outputId": "fcc54f36-423f-4a98-d2bc-0f35a46d6431"
      },
      "execution_count": 5,
      "outputs": [
        {
          "output_type": "stream",
          "name": "stdout",
          "text": [
            "Indique su ingreso mensual: 2500\n",
            "Indique numero de hijos2\n",
            "No cumple los requisitos para recibir el beneficio\n"
          ]
        }
      ]
    },
    {
      "cell_type": "code",
      "source": [
        "Desempeño = float (input(\"Indique su desempeño : \"))\n",
        "Años_trabajados = float (input(\"Indique sus años de trabajo: \"))\n",
        "\n",
        "if Desempeño >= 7 and Años_trabajados > 5:\n",
        "                         print (\"Elegible para Ascenso\")\n",
        "elif Desempeño >= 7 and Años_trabajados <= 5:\n",
        "                         print (\"Buen desempeño, sigue así\")\n",
        "else :\n",
        "                         print (\"Necesita mejorar\")\n"
      ],
      "metadata": {
        "colab": {
          "base_uri": "https://localhost:8080/"
        },
        "id": "0mHU9WXF9IkM",
        "outputId": "70482ccc-762f-4ad4-e7e3-c382f4660b58"
      },
      "execution_count": 12,
      "outputs": [
        {
          "output_type": "stream",
          "name": "stdout",
          "text": [
            "Indique su desempeño : 8\n",
            "Indique sus años de trabajo: 10\n",
            "Elegible para Ascenso\n"
          ]
        }
      ]
    },
    {
      "cell_type": "code",
      "source": [
        "puntuacion = float(input(\"Ingrese la puntuación del desempeño (0 a 10): \"))\n",
        "anios = int(input(\"Ingrese la cantidad de años trabajados: \"))\n",
        "\n",
        "if puntuacion >= 7:\n",
        "    if anios > 5:\n",
        "        print(\"Elegible para ascenso.\")\n",
        "    else:\n",
        "        print(\"Buen desempeño, sigue así.\")\n",
        "else:\n",
        "    print(\"Necesita mejorar.\")"
      ],
      "metadata": {
        "id": "VHZI9Qqr_dQw",
        "outputId": "e8cb4432-0b7f-4c24-bd9e-f9bf845da1c5",
        "colab": {
          "base_uri": "https://localhost:8080/"
        }
      },
      "execution_count": 13,
      "outputs": [
        {
          "output_type": "stream",
          "name": "stdout",
          "text": [
            "Ingrese la puntuación del desempeño (0 a 10): 7\n",
            "Ingrese la cantidad de años trabajados: 4\n",
            "Buen desempeño, sigue así.\n"
          ]
        }
      ]
    }
  ]
}