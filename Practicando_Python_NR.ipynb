{
  "nbformat": 4,
  "nbformat_minor": 0,
  "metadata": {
    "colab": {
      "provenance": [],
      "authorship_tag": "ABX9TyOJN+7HL5SxeKtk6lbusdRQ",
      "include_colab_link": true
    },
    "kernelspec": {
      "name": "python3",
      "display_name": "Python 3"
    },
    "language_info": {
      "name": "python"
    }
  },
  "cells": [
    {
      "cell_type": "markdown",
      "metadata": {
        "id": "view-in-github",
        "colab_type": "text"
      },
      "source": [
        "<a href=\"https://colab.research.google.com/github/Nore-gibhub/Practicando_Python/blob/main/Practicando_Python_NR.ipynb\" target=\"_parent\"><img src=\"https://colab.research.google.com/assets/colab-badge.svg\" alt=\"Open In Colab\"/></a>"
      ]
    },
    {
      "cell_type": "code",
      "execution_count": 8,
      "metadata": {
        "colab": {
          "base_uri": "https://localhost:8080/"
        },
        "id": "0gIoK3VUcbWK",
        "outputId": "3d1d2c00-30a8-4e21-d2f8-9268ff333f30"
      },
      "outputs": [
        {
          "output_type": "stream",
          "name": "stdout",
          "text": [
            "Digite la cantidad de manzanas:4\n",
            "Digite la cantidad de platanos:9\n",
            "Los plátanos tuvieron más ventas.\n"
          ]
        }
      ],
      "source": [
        "Cant_de_manzanas = int(input (\"Digite la cantidad de manzanas:\"))\n",
        "Cant_de_platanos = int(input (\"Digite la cantidad de platanos:\"))\n",
        "if Cant_de_platanos > Cant_de_manzanas:\n",
        "  print (\"Los plátanos tuvieron más ventas.\")\n",
        "elif Cant_de_platanos < Cant_de_manzanas:\n",
        "  print (\"Las manzanas tuvieron mas ventas.\")\n",
        "else:\n",
        "  Print (\"Las ventas fueron iguales\")"
      ]
    },
    {
      "cell_type": "code",
      "source": [
        "Temperatura = int(input(\"Digite la temperatura actual:\"))\n",
        "if Temperatura <= 25:\n",
        "  print (\"Temperatura dentro del limite permitido.\")\n",
        "else:\n",
        "  print (\"¡Alerta! Temperatura por encima del límite permitido.\")"
      ],
      "metadata": {
        "colab": {
          "base_uri": "https://localhost:8080/"
        },
        "id": "x38VZBs2hoaG",
        "outputId": "0d792669-5444-451d-bd2f-a949293295f4"
      },
      "execution_count": 9,
      "outputs": [
        {
          "output_type": "stream",
          "name": "stdout",
          "text": [
            "Digite la temperatura actual:30\n",
            "¡Alerta! Temperatura por encima del límite permitido.\n"
          ]
        }
      ]
    }
  ]
}