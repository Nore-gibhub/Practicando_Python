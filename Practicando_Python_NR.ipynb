{
  "nbformat": 4,
  "nbformat_minor": 0,
  "metadata": {
    "colab": {
      "provenance": [],
      "authorship_tag": "ABX9TyPZXY7oQOrGhukp1x7aVgjm",
      "include_colab_link": true
    },
    "kernelspec": {
      "name": "python3",
      "display_name": "Python 3"
    },
    "language_info": {
      "name": "python"
    }
  },
  "cells": [
    {
      "cell_type": "markdown",
      "metadata": {
        "id": "view-in-github",
        "colab_type": "text"
      },
      "source": [
        "<a href=\"https://colab.research.google.com/github/Nore-gibhub/Practicando_Python/blob/main/Practicando_Python_NR.ipynb\" target=\"_parent\"><img src=\"https://colab.research.google.com/assets/colab-badge.svg\" alt=\"Open In Colab\"/></a>"
      ]
    },
    {
      "cell_type": "code",
      "execution_count": 7,
      "metadata": {
        "colab": {
          "base_uri": "https://localhost:8080/"
        },
        "id": "0gIoK3VUcbWK",
        "outputId": "4972e909-347d-4382-8559-673d69323de7"
      },
      "outputs": [
        {
          "output_type": "stream",
          "name": "stdout",
          "text": [
            "Digite la cantidad de manzanas:4\n",
            "Digite la cantidad de platanos:9\n",
            "Los plátanos tuvieron más ventas.\n"
          ]
        }
      ],
      "source": [
        "Cant_de_manzanas = int(input (\"Digite la cantidad de manzanas:\"))\n",
        "Cant_de_platanos = int(input (\"Digite la cantidad de platanos:\"))\n",
        "if Cant_de_platanos > Cant_de_manzanas:\n",
        "  print (\"Los plátanos tuvieron más ventas.\")\n",
        "else:\n",
        "  print (\"Las manzanas tuvieron mas ventas.\")"
      ]
    },
    {
      "cell_type": "code",
      "source": [],
      "metadata": {
        "id": "x38VZBs2hoaG"
      },
      "execution_count": null,
      "outputs": []
    }
  ]
}